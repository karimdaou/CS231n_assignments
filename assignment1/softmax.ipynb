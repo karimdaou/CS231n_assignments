{
 "cells": [
  {
   "cell_type": "markdown",
   "metadata": {},
   "source": [
    "# Softmax exercise\n",
    "\n",
    "*Complete and hand in this completed worksheet (including its outputs and any supporting code outside of the worksheet) with your assignment submission. For more details see the [assignments page](http://vision.stanford.edu/teaching/cs231n/assignments.html) on the course website.*\n",
    "\n",
    "This exercise is analogous to the SVM exercise. You will:\n",
    "\n",
    "- implement a fully-vectorized **loss function** for the Softmax classifier\n",
    "- implement the fully-vectorized expression for its **analytic gradient**\n",
    "- **check your implementation** with numerical gradient\n",
    "- use a validation set to **tune the learning rate and regularization** strength\n",
    "- **optimize** the loss function with **SGD**\n",
    "- **visualize** the final learned weights\n"
   ]
  },
  {
   "cell_type": "code",
   "execution_count": 1,
   "metadata": {
    "collapsed": true
   },
   "outputs": [],
   "source": [
    "import random\n",
    "import numpy as np\n",
    "from cs231n.data_utils import load_CIFAR10\n",
    "import matplotlib.pyplot as plt\n",
    "\n",
    "from __future__ import print_function\n",
    "\n",
    "%matplotlib inline\n",
    "plt.rcParams['figure.figsize'] = (10.0, 8.0) # set default size of plots\n",
    "plt.rcParams['image.interpolation'] = 'nearest'\n",
    "plt.rcParams['image.cmap'] = 'gray'\n",
    "\n",
    "# for auto-reloading extenrnal modules\n",
    "# see http://stackoverflow.com/questions/1907993/autoreload-of-modules-in-ipython\n",
    "%load_ext autoreload\n",
    "%autoreload 2"
   ]
  },
  {
   "cell_type": "code",
   "execution_count": 2,
   "metadata": {
    "collapsed": false
   },
   "outputs": [
    {
     "name": "stdout",
     "output_type": "stream",
     "text": [
      "Train data shape:  (49000, 3073)\n",
      "Train labels shape:  (49000,)\n",
      "Validation data shape:  (1000, 3073)\n",
      "Validation labels shape:  (1000,)\n",
      "Test data shape:  (1000, 3073)\n",
      "Test labels shape:  (1000,)\n",
      "dev data shape:  (500, 3073)\n",
      "dev labels shape:  (500,)\n"
     ]
    }
   ],
   "source": [
    "def get_CIFAR10_data(num_training=49000, num_validation=1000, num_test=1000, num_dev=500):\n",
    "    \"\"\"\n",
    "    Load the CIFAR-10 dataset from disk and perform preprocessing to prepare\n",
    "    it for the linear classifier. These are the same steps as we used for the\n",
    "    SVM, but condensed to a single function.  \n",
    "    \"\"\"\n",
    "    # Load the raw CIFAR-10 data\n",
    "    cifar10_dir = 'cs231n/datasets/cifar-10-batches-py'\n",
    "    \n",
    "    X_train, y_train, X_test, y_test = load_CIFAR10(cifar10_dir)\n",
    "    \n",
    "    # subsample the data\n",
    "    mask = list(range(num_training, num_training + num_validation))\n",
    "    X_val = X_train[mask]\n",
    "    y_val = y_train[mask]\n",
    "    mask = list(range(num_training))\n",
    "    X_train = X_train[mask]\n",
    "    y_train = y_train[mask]\n",
    "    mask = list(range(num_test))\n",
    "    X_test = X_test[mask]\n",
    "    y_test = y_test[mask]\n",
    "    mask = np.random.choice(num_training, num_dev, replace=False)\n",
    "    X_dev = X_train[mask]\n",
    "    y_dev = y_train[mask]\n",
    "    \n",
    "    # Preprocessing: reshape the image data into rows\n",
    "    X_train = np.reshape(X_train, (X_train.shape[0], -1))\n",
    "    X_val = np.reshape(X_val, (X_val.shape[0], -1))\n",
    "    X_test = np.reshape(X_test, (X_test.shape[0], -1))\n",
    "    X_dev = np.reshape(X_dev, (X_dev.shape[0], -1))\n",
    "    \n",
    "    # Normalize the data: subtract the mean image\n",
    "    mean_image = np.mean(X_train, axis = 0)\n",
    "    X_train -= mean_image\n",
    "    X_val -= mean_image\n",
    "    X_test -= mean_image\n",
    "    X_dev -= mean_image\n",
    "    \n",
    "    # add bias dimension and transform into columns\n",
    "    X_train = np.hstack([X_train, np.ones((X_train.shape[0], 1))])\n",
    "    X_val = np.hstack([X_val, np.ones((X_val.shape[0], 1))])\n",
    "    X_test = np.hstack([X_test, np.ones((X_test.shape[0], 1))])\n",
    "    X_dev = np.hstack([X_dev, np.ones((X_dev.shape[0], 1))])\n",
    "    \n",
    "    return X_train, y_train, X_val, y_val, X_test, y_test, X_dev, y_dev\n",
    "\n",
    "\n",
    "# Cleaning up variables to prevent loading data multiple times (which may cause memory issue)\n",
    "try:\n",
    "   del X_train, y_train\n",
    "   del X_test, y_test\n",
    "   print('Clear previously loaded data.')\n",
    "except:\n",
    "   pass\n",
    "\n",
    "# Invoke the above function to get our data.\n",
    "X_train, y_train, X_val, y_val, X_test, y_test, X_dev, y_dev = get_CIFAR10_data()\n",
    "print('Train data shape: ', X_train.shape)\n",
    "print('Train labels shape: ', y_train.shape)\n",
    "print('Validation data shape: ', X_val.shape)\n",
    "print('Validation labels shape: ', y_val.shape)\n",
    "print('Test data shape: ', X_test.shape)\n",
    "print('Test labels shape: ', y_test.shape)\n",
    "print('dev data shape: ', X_dev.shape)\n",
    "print('dev labels shape: ', y_dev.shape)"
   ]
  },
  {
   "cell_type": "markdown",
   "metadata": {},
   "source": [
    "## Softmax Classifier\n",
    "\n",
    "Your code for this section will all be written inside **cs231n/classifiers/softmax.py**. \n"
   ]
  },
  {
   "cell_type": "code",
   "execution_count": 3,
   "metadata": {
    "collapsed": false
   },
   "outputs": [
    {
     "name": "stdout",
     "output_type": "stream",
     "text": [
      "loss: 2.394345\n",
      "sanity check: 2.302585\n"
     ]
    }
   ],
   "source": [
    "# First implement the naive softmax loss function with nested loops.\n",
    "# Open the file cs231n/classifiers/softmax.py and implement the\n",
    "# softmax_loss_naive function.\n",
    "\n",
    "from cs231n.classifiers.softmax import softmax_loss_naive\n",
    "import time\n",
    "\n",
    "# Generate a random softmax weight matrix and use it to compute the loss.\n",
    "W = np.random.randn(3073, 10) * 0.0001\n",
    "loss, grad = softmax_loss_naive(W, X_dev, y_dev, 0.0)\n",
    "\n",
    "# As a rough sanity check, our loss should be something close to -log(0.1).\n",
    "print('loss: %f' % loss)\n",
    "print('sanity check: %f' % (-np.log(0.1)))"
   ]
  },
  {
   "cell_type": "markdown",
   "metadata": {},
   "source": [
    "## Inline Question 1:\n",
    "Why do we expect our loss to be close to -log(0.1)? Explain briefly.**\n",
    "\n",
    "**Your answer:** *Our random initialization distributes probability uniformly so every score is going to be approximately the same and because we have 10 classes the probability of every example $P \\thicksim 1/10 = 0.1 \\Longrightarrow loss = - \\log(0.1)$ * \n"
   ]
  },
  {
   "cell_type": "code",
   "execution_count": 4,
   "metadata": {
    "collapsed": false
   },
   "outputs": [
    {
     "name": "stdout",
     "output_type": "stream",
     "text": [
      "numerical: -0.114013 analytic: -0.114013, relative error: 8.221648e-07\n",
      "numerical: -3.912640 analytic: -3.912640, relative error: 7.998545e-10\n",
      "numerical: -0.982894 analytic: -0.982894, relative error: 3.726724e-08\n",
      "numerical: -1.355408 analytic: -1.355408, relative error: 5.362897e-08\n",
      "numerical: -1.579624 analytic: -1.579624, relative error: 1.983148e-08\n",
      "numerical: 3.371500 analytic: 3.371500, relative error: 1.496625e-08\n",
      "numerical: 0.044847 analytic: 0.044847, relative error: 2.705643e-07\n",
      "numerical: -2.736747 analytic: -2.736747, relative error: 1.393107e-08\n",
      "numerical: -1.318774 analytic: -1.318775, relative error: 4.192651e-08\n",
      "numerical: 0.133195 analytic: 0.133195, relative error: 1.554317e-07\n",
      "numerical: -2.888723 analytic: -2.888723, relative error: 3.295882e-09\n",
      "numerical: 1.609178 analytic: 1.609178, relative error: 7.056427e-08\n",
      "numerical: -3.156162 analytic: -3.156162, relative error: 1.760960e-09\n",
      "numerical: 2.740720 analytic: 2.740720, relative error: 3.107075e-09\n",
      "numerical: 0.102964 analytic: 0.102964, relative error: 4.648726e-08\n",
      "numerical: 3.440371 analytic: 3.440371, relative error: 1.588589e-08\n",
      "numerical: 5.937162 analytic: 5.937162, relative error: 7.309301e-09\n",
      "numerical: -1.105717 analytic: -1.105717, relative error: 7.382604e-08\n",
      "numerical: -2.628729 analytic: -2.628729, relative error: 1.628649e-08\n",
      "numerical: 0.284504 analytic: 0.284504, relative error: 2.729868e-09\n"
     ]
    }
   ],
   "source": [
    "# Complete the implementation of softmax_loss_naive and implement a (naive)\n",
    "# version of the gradient that uses nested loops.\n",
    "loss, grad = softmax_loss_naive(W, X_dev, y_dev, 0.0)\n",
    "\n",
    "# As we did for the SVM, use numeric gradient checking as a debugging tool.\n",
    "# The numeric gradient should be close to the analytic gradient.\n",
    "from cs231n.gradient_check import grad_check_sparse\n",
    "f = lambda w: softmax_loss_naive(w, X_dev, y_dev, 0.0)[0]\n",
    "grad_numerical = grad_check_sparse(f, W, grad, 10)\n",
    "\n",
    "# similar to SVM case, do another gradient check with regularization\n",
    "loss, grad = softmax_loss_naive(W, X_dev, y_dev, 5e1)\n",
    "f = lambda w: softmax_loss_naive(w, X_dev, y_dev, 5e1)[0]\n",
    "grad_numerical = grad_check_sparse(f, W, grad, 10)"
   ]
  },
  {
   "cell_type": "code",
   "execution_count": 9,
   "metadata": {
    "collapsed": false
   },
   "outputs": [
    {
     "name": "stdout",
     "output_type": "stream",
     "text": [
      "naive loss: 2.394345e+00 computed in 0.317096s\n",
      "vectorized loss: 2.394345e+00 computed in 0.007927s\n",
      "Loss difference: 0.000000\n",
      "Gradient difference: 0.000000\n"
     ]
    }
   ],
   "source": [
    "# Now that we have a naive implementation of the softmax loss function and its gradient,\n",
    "# implement a vectorized version in softmax_loss_vectorized.\n",
    "# The two versions should compute the same results, but the vectorized version should be\n",
    "# much faster.\n",
    "tic = time.time()\n",
    "loss_naive, grad_naive = softmax_loss_naive(W, X_dev, y_dev, 0.000005)\n",
    "toc = time.time()\n",
    "print('naive loss: %e computed in %fs' % (loss_naive, toc - tic))\n",
    "\n",
    "from cs231n.classifiers.softmax import softmax_loss_vectorized\n",
    "tic = time.time()\n",
    "loss_vectorized, grad_vectorized = softmax_loss_vectorized(W, X_dev, y_dev, 0.000005)\n",
    "toc = time.time()\n",
    "print('vectorized loss: %e computed in %fs' % (loss_vectorized, toc - tic))\n",
    "\n",
    "# As we did for the SVM, we use the Frobenius norm to compare the two versions\n",
    "# of the gradient.\n",
    "grad_difference = np.linalg.norm(grad_naive - grad_vectorized, ord='fro')\n",
    "print('Loss difference: %f' % np.abs(loss_naive - loss_vectorized))\n",
    "print('Gradient difference: %f' % grad_difference)"
   ]
  },
  {
   "cell_type": "code",
   "execution_count": 13,
   "metadata": {
    "collapsed": false
   },
   "outputs": [
    {
     "name": "stdout",
     "output_type": "stream",
     "text": [
      "lr 8.000000e-08 reg 1.000000e+04 train accuracy: 0.345857 val accuracy: 0.351000\n",
      "lr 8.000000e-08 reg 2.000000e+04 train accuracy: 0.341082 val accuracy: 0.355000\n",
      "lr 8.000000e-08 reg 3.000000e+04 train accuracy: 0.320429 val accuracy: 0.333000\n",
      "lr 8.000000e-08 reg 4.000000e+04 train accuracy: 0.317449 val accuracy: 0.330000\n",
      "lr 8.500000e-08 reg 1.000000e+04 train accuracy: 0.346000 val accuracy: 0.339000\n",
      "lr 8.500000e-08 reg 2.000000e+04 train accuracy: 0.328918 val accuracy: 0.343000\n",
      "lr 8.500000e-08 reg 3.000000e+04 train accuracy: 0.327122 val accuracy: 0.338000\n",
      "lr 8.500000e-08 reg 4.000000e+04 train accuracy: 0.312776 val accuracy: 0.335000\n",
      "lr 9.000000e-08 reg 1.000000e+04 train accuracy: 0.348755 val accuracy: 0.359000\n",
      "lr 9.000000e-08 reg 2.000000e+04 train accuracy: 0.333571 val accuracy: 0.356000\n",
      "lr 9.000000e-08 reg 3.000000e+04 train accuracy: 0.324653 val accuracy: 0.342000\n",
      "lr 9.000000e-08 reg 4.000000e+04 train accuracy: 0.314857 val accuracy: 0.331000\n",
      "lr 9.500000e-08 reg 1.000000e+04 train accuracy: 0.350959 val accuracy: 0.372000\n",
      "lr 9.500000e-08 reg 2.000000e+04 train accuracy: 0.332898 val accuracy: 0.349000\n",
      "lr 9.500000e-08 reg 3.000000e+04 train accuracy: 0.325571 val accuracy: 0.332000\n",
      "lr 9.500000e-08 reg 4.000000e+04 train accuracy: 0.311449 val accuracy: 0.326000\n",
      "lr 1.000000e-07 reg 1.000000e+04 train accuracy: 0.357224 val accuracy: 0.363000\n",
      "lr 1.000000e-07 reg 2.000000e+04 train accuracy: 0.335163 val accuracy: 0.351000\n",
      "lr 1.000000e-07 reg 3.000000e+04 train accuracy: 0.325694 val accuracy: 0.345000\n",
      "lr 1.000000e-07 reg 4.000000e+04 train accuracy: 0.312571 val accuracy: 0.325000\n",
      "lr 1.050000e-07 reg 1.000000e+04 train accuracy: 0.356204 val accuracy: 0.364000\n",
      "lr 1.050000e-07 reg 2.000000e+04 train accuracy: 0.333102 val accuracy: 0.348000\n",
      "lr 1.050000e-07 reg 3.000000e+04 train accuracy: 0.327408 val accuracy: 0.343000\n",
      "lr 1.050000e-07 reg 4.000000e+04 train accuracy: 0.311224 val accuracy: 0.332000\n",
      "lr 1.100000e-07 reg 1.000000e+04 train accuracy: 0.351347 val accuracy: 0.366000\n",
      "lr 1.100000e-07 reg 2.000000e+04 train accuracy: 0.332327 val accuracy: 0.348000\n",
      "lr 1.100000e-07 reg 3.000000e+04 train accuracy: 0.327878 val accuracy: 0.340000\n",
      "lr 1.100000e-07 reg 4.000000e+04 train accuracy: 0.315122 val accuracy: 0.328000\n",
      "lr 1.150000e-07 reg 1.000000e+04 train accuracy: 0.354122 val accuracy: 0.373000\n",
      "lr 1.150000e-07 reg 2.000000e+04 train accuracy: 0.333000 val accuracy: 0.351000\n",
      "lr 1.150000e-07 reg 3.000000e+04 train accuracy: 0.323837 val accuracy: 0.341000\n",
      "lr 1.150000e-07 reg 4.000000e+04 train accuracy: 0.316245 val accuracy: 0.338000\n",
      "lr 1.200000e-07 reg 1.000000e+04 train accuracy: 0.355306 val accuracy: 0.376000\n",
      "lr 1.200000e-07 reg 2.000000e+04 train accuracy: 0.332857 val accuracy: 0.356000\n",
      "lr 1.200000e-07 reg 3.000000e+04 train accuracy: 0.322265 val accuracy: 0.334000\n",
      "lr 1.200000e-07 reg 4.000000e+04 train accuracy: 0.313408 val accuracy: 0.334000\n",
      "lr 1.250000e-07 reg 1.000000e+04 train accuracy: 0.357224 val accuracy: 0.370000\n",
      "lr 1.250000e-07 reg 2.000000e+04 train accuracy: 0.340816 val accuracy: 0.361000\n",
      "lr 1.250000e-07 reg 3.000000e+04 train accuracy: 0.322265 val accuracy: 0.336000\n",
      "lr 1.250000e-07 reg 4.000000e+04 train accuracy: 0.307837 val accuracy: 0.331000\n",
      "lr 1.300000e-07 reg 1.000000e+04 train accuracy: 0.355735 val accuracy: 0.372000\n",
      "lr 1.300000e-07 reg 2.000000e+04 train accuracy: 0.336980 val accuracy: 0.349000\n",
      "lr 1.300000e-07 reg 3.000000e+04 train accuracy: 0.320918 val accuracy: 0.344000\n",
      "lr 1.300000e-07 reg 4.000000e+04 train accuracy: 0.311327 val accuracy: 0.326000\n",
      "lr 1.350000e-07 reg 1.000000e+04 train accuracy: 0.356878 val accuracy: 0.372000\n",
      "lr 1.350000e-07 reg 2.000000e+04 train accuracy: 0.338776 val accuracy: 0.349000\n",
      "lr 1.350000e-07 reg 3.000000e+04 train accuracy: 0.326449 val accuracy: 0.337000\n",
      "lr 1.350000e-07 reg 4.000000e+04 train accuracy: 0.313959 val accuracy: 0.339000\n",
      "lr 1.400000e-07 reg 1.000000e+04 train accuracy: 0.354939 val accuracy: 0.364000\n",
      "lr 1.400000e-07 reg 2.000000e+04 train accuracy: 0.337980 val accuracy: 0.358000\n",
      "lr 1.400000e-07 reg 3.000000e+04 train accuracy: 0.319163 val accuracy: 0.337000\n",
      "lr 1.400000e-07 reg 4.000000e+04 train accuracy: 0.311735 val accuracy: 0.330000\n",
      "lr 1.450000e-07 reg 1.000000e+04 train accuracy: 0.357408 val accuracy: 0.378000\n",
      "lr 1.450000e-07 reg 2.000000e+04 train accuracy: 0.329959 val accuracy: 0.342000\n",
      "lr 1.450000e-07 reg 3.000000e+04 train accuracy: 0.329408 val accuracy: 0.346000\n",
      "lr 1.450000e-07 reg 4.000000e+04 train accuracy: 0.314531 val accuracy: 0.329000\n",
      "lr 1.500000e-07 reg 1.000000e+04 train accuracy: 0.359143 val accuracy: 0.373000\n",
      "lr 1.500000e-07 reg 2.000000e+04 train accuracy: 0.339469 val accuracy: 0.356000\n",
      "lr 1.500000e-07 reg 3.000000e+04 train accuracy: 0.320449 val accuracy: 0.335000\n",
      "lr 1.500000e-07 reg 4.000000e+04 train accuracy: 0.324306 val accuracy: 0.330000\n",
      "lr 1.550000e-07 reg 1.000000e+04 train accuracy: 0.352878 val accuracy: 0.366000\n",
      "lr 1.550000e-07 reg 2.000000e+04 train accuracy: 0.338184 val accuracy: 0.352000\n",
      "lr 1.550000e-07 reg 3.000000e+04 train accuracy: 0.313878 val accuracy: 0.334000\n",
      "lr 1.550000e-07 reg 4.000000e+04 train accuracy: 0.307020 val accuracy: 0.322000\n",
      "lr 1.600000e-07 reg 1.000000e+04 train accuracy: 0.356245 val accuracy: 0.372000\n",
      "lr 1.600000e-07 reg 2.000000e+04 train accuracy: 0.334531 val accuracy: 0.345000\n",
      "lr 1.600000e-07 reg 3.000000e+04 train accuracy: 0.320571 val accuracy: 0.336000\n",
      "lr 1.600000e-07 reg 4.000000e+04 train accuracy: 0.312714 val accuracy: 0.337000\n",
      "lr 1.650000e-07 reg 1.000000e+04 train accuracy: 0.358163 val accuracy: 0.380000\n",
      "lr 1.650000e-07 reg 2.000000e+04 train accuracy: 0.339755 val accuracy: 0.352000\n",
      "lr 1.650000e-07 reg 3.000000e+04 train accuracy: 0.323694 val accuracy: 0.334000\n",
      "lr 1.650000e-07 reg 4.000000e+04 train accuracy: 0.309286 val accuracy: 0.331000\n",
      "lr 1.700000e-07 reg 1.000000e+04 train accuracy: 0.355469 val accuracy: 0.369000\n",
      "lr 1.700000e-07 reg 2.000000e+04 train accuracy: 0.340306 val accuracy: 0.346000\n",
      "lr 1.700000e-07 reg 3.000000e+04 train accuracy: 0.324980 val accuracy: 0.340000\n",
      "lr 1.700000e-07 reg 4.000000e+04 train accuracy: 0.314755 val accuracy: 0.328000\n",
      "lr 1.750000e-07 reg 1.000000e+04 train accuracy: 0.361082 val accuracy: 0.376000\n",
      "lr 1.750000e-07 reg 2.000000e+04 train accuracy: 0.339959 val accuracy: 0.344000\n",
      "lr 1.750000e-07 reg 3.000000e+04 train accuracy: 0.325143 val accuracy: 0.333000\n",
      "lr 1.750000e-07 reg 4.000000e+04 train accuracy: 0.316367 val accuracy: 0.330000\n",
      "lr 1.800000e-07 reg 1.000000e+04 train accuracy: 0.357898 val accuracy: 0.375000\n",
      "lr 1.800000e-07 reg 2.000000e+04 train accuracy: 0.334449 val accuracy: 0.343000\n",
      "lr 1.800000e-07 reg 3.000000e+04 train accuracy: 0.321163 val accuracy: 0.329000\n",
      "lr 1.800000e-07 reg 4.000000e+04 train accuracy: 0.317571 val accuracy: 0.322000\n",
      "lr 1.850000e-07 reg 1.000000e+04 train accuracy: 0.353449 val accuracy: 0.362000\n",
      "lr 1.850000e-07 reg 2.000000e+04 train accuracy: 0.329939 val accuracy: 0.340000\n",
      "lr 1.850000e-07 reg 3.000000e+04 train accuracy: 0.327571 val accuracy: 0.334000\n",
      "lr 1.850000e-07 reg 4.000000e+04 train accuracy: 0.318571 val accuracy: 0.331000\n",
      "lr 1.900000e-07 reg 1.000000e+04 train accuracy: 0.359673 val accuracy: 0.378000\n",
      "lr 1.900000e-07 reg 2.000000e+04 train accuracy: 0.338163 val accuracy: 0.353000\n",
      "lr 1.900000e-07 reg 3.000000e+04 train accuracy: 0.327735 val accuracy: 0.338000\n",
      "lr 1.900000e-07 reg 4.000000e+04 train accuracy: 0.311041 val accuracy: 0.328000\n",
      "lr 1.950000e-07 reg 1.000000e+04 train accuracy: 0.358592 val accuracy: 0.375000\n",
      "lr 1.950000e-07 reg 2.000000e+04 train accuracy: 0.344469 val accuracy: 0.354000\n",
      "lr 1.950000e-07 reg 3.000000e+04 train accuracy: 0.319449 val accuracy: 0.334000\n",
      "lr 1.950000e-07 reg 4.000000e+04 train accuracy: 0.318735 val accuracy: 0.332000\n",
      "best validation accuracy achieved during cross-validation: 0.380000\n"
     ]
    }
   ],
   "source": [
    "# Use the validation set to tune hyperparameters (regularization strength and\n",
    "# learning rate). You should experiment with different ranges for the learning\n",
    "# rates and regularization strengths; if you are careful you should be able to\n",
    "# get a classification accuracy of over 0.35 on the validation set.\n",
    "from cs231n.classifiers import Softmax\n",
    "results = {}\n",
    "best_val = -1\n",
    "best_softmax = None\n",
    "learning_rates = np.arange(8e-8, 2e-7, 5e-9)\n",
    "regularization_strengths = np.arange(1e4, 5e4, 1e4)\n",
    "\n",
    "################################################################################\n",
    "# TODO:                                                                        #\n",
    "# Use the validation set to set the learning rate and regularization strength. #\n",
    "# This should be identical to the validation that you did for the SVM; save    #\n",
    "# the best trained softmax classifer in best_softmax.                          #\n",
    "################################################################################\n",
    "# Your code\n",
    "\n",
    "for lr in learning_rates:\n",
    "    for reg in regularization_strengths:\n",
    "        softmax = Softmax()\n",
    "        softmax.train(X_train, y_train, learning_rate=lr, reg=reg,\n",
    "                  num_iters=1500, verbose=False)\n",
    "       \n",
    "        y_train_pred = softmax.predict(X_train)\n",
    "        y_val_pred = softmax.predict(X_val)\n",
    "        \n",
    "        train_accuracy = np.mean(y_train == y_train_pred)\n",
    "        val_accuracy = np.mean(y_val == y_val_pred)\n",
    "        \n",
    "        results.update({(lr, reg) : (train_accuracy, val_accuracy)})\n",
    "        \n",
    "        if val_accuracy > best_val:\n",
    "            best_val = val_accuracy\n",
    "            best_softmax = softmax\n",
    "\n",
    "################################################################################\n",
    "#                              END OF YOUR CODE                                #\n",
    "################################################################################\n",
    "    \n",
    "# Print out results.\n",
    "for lr, reg in sorted(results):\n",
    "    train_accuracy, val_accuracy = results[(lr, reg)]\n",
    "    print('lr %e reg %e train accuracy: %f val accuracy: %f' % (\n",
    "                lr, reg, train_accuracy, val_accuracy))\n",
    "    \n",
    "print('best validation accuracy achieved during cross-validation: %f' % best_val)"
   ]
  },
  {
   "cell_type": "code",
   "execution_count": 14,
   "metadata": {
    "collapsed": false
   },
   "outputs": [
    {
     "name": "stdout",
     "output_type": "stream",
     "text": [
      "softmax on raw pixels final test set accuracy: 0.369000\n"
     ]
    }
   ],
   "source": [
    "# evaluate on test set\n",
    "# Evaluate the best softmax on test set\n",
    "y_test_pred = best_softmax.predict(X_test)\n",
    "test_accuracy = np.mean(y_test == y_test_pred)\n",
    "print('softmax on raw pixels final test set accuracy: %f' % (test_accuracy, ))"
   ]
  },
  {
   "cell_type": "markdown",
   "metadata": {},
   "source": [
    "**Inline Question** - *True or False*\n",
    "\n",
    "It's possible to add a new datapoint to a training set that would leave the SVM loss unchanged, but this is not the case with the Softmax classifier loss.\n",
    "\n",
    "*Your answer*: **True**\n",
    "\n",
    "*Your explanation*: *If we add a point with high score for the ground truth class the SVM loss won't change (the term $max(0, s_j - s_{y_i} +1) = 0$)*. But it will add a nonzero term in Softmax loss."
   ]
  },
  {
   "cell_type": "code",
   "execution_count": 15,
   "metadata": {
    "collapsed": false
   },
   "outputs": [
    {
     "data": {
      "image/png": "[encoded data removed]",
      "text/plain": [
       "<Figure size 1000x800 with 10 Axes>"
      ]
     },
     "metadata": {},
     "output_type": "display_data"
    }
   ],
   "source": [
    "# Visualize the learned weights for each class\n",
    "w = best_softmax.W[:-1,:] # strip out the bias\n",
    "w = w.reshape(32, 32, 3, 10)\n",
    "\n",
    "w_min, w_max = np.min(w), np.max(w)\n",
    "\n",
    "classes = ['plane', 'car', 'bird', 'cat', 'deer', 'dog', 'frog', 'horse', 'ship', 'truck']\n",
    "for i in range(10):\n",
    "    plt.subplot(2, 5, i + 1)\n",
    "    \n",
    "    # Rescale the weights to be between 0 and 255\n",
    "    wimg = 255.0 * (w[:, :, :, i].squeeze() - w_min) / (w_max - w_min)\n",
    "    plt.imshow(wimg.astype('uint8'))\n",
    "    plt.axis('off')\n",
    "    plt.title(classes[i])"
   ]
  }
 ],
 "metadata": {
  "kernelspec": {
   "display_name": "Python 3",
   "language": "python",
   "name": "python3"
  },
  "language_info": {
   "codemirror_mode": {
    "name": "ipython",
    "version": 3
   },
   "file_extension": ".py",
   "mimetype": "text/x-python",
   "name": "python",
   "nbconvert_exporter": "python",
   "pygments_lexer": "ipython3",
   "version": "3.6.7"
  }
 },
 "nbformat": 4,
 "nbformat_minor": 1
}
